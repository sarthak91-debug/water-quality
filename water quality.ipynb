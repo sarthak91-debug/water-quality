{
 "cells": [
  {
   "cell_type": "code",
   "execution_count": 1,
   "id": "ea04f4cf",
   "metadata": {},
   "outputs": [],
   "source": [
    "import pandas as pd\n",
    "import seaborn as sns\n",
    "import numpy as np\n",
    "import matplotlib.pyplot as plt\n",
    "%matplotlib inline"
   ]
  },
  {
   "cell_type": "code",
   "execution_count": 2,
   "id": "e2a9060c",
   "metadata": {},
   "outputs": [],
   "source": [
    "solid_water=[]\n",
    "class PH:\n",
    "    def __init__(self,ph,hardness,solids):\n",
    "        self.ph=ph\n",
    "        self.hardness=hardness\n",
    "        self.solids=solids\n",
    "        \n",
    "    def getPotability(self):\n",
    "        if ((self.ph >6.5 and self.ph<=8.5) and self.hardness<=100 and self.solids<10000):\n",
    "            print(\"it is hard\")\n",
    "        else:\n",
    "            print(\"it is not hard\")"
   ]
  },
  {
   "cell_type": "code",
   "execution_count": 3,
   "id": "59593a65",
   "metadata": {},
   "outputs": [
    {
     "name": "stdout",
     "output_type": "stream",
     "text": [
      "it is not hard\n"
     ]
    }
   ],
   "source": [
    "hard=PH(9,29,1)\n",
    "solid_water.append(hard)\n",
    "hard.ph\n",
    "hard.getPotability()"
   ]
  },
  {
   "cell_type": "code",
   "execution_count": 4,
   "id": "efcb1432",
   "metadata": {
    "scrolled": false
   },
   "outputs": [
    {
     "data": {
      "text/html": [
       "<div>\n",
       "<style scoped>\n",
       "    .dataframe tbody tr th:only-of-type {\n",
       "        vertical-align: middle;\n",
       "    }\n",
       "\n",
       "    .dataframe tbody tr th {\n",
       "        vertical-align: top;\n",
       "    }\n",
       "\n",
       "    .dataframe thead th {\n",
       "        text-align: right;\n",
       "    }\n",
       "</style>\n",
       "<table border=\"1\" class=\"dataframe\">\n",
       "  <thead>\n",
       "    <tr style=\"text-align: right;\">\n",
       "      <th></th>\n",
       "      <th>ph</th>\n",
       "      <th>Hardness</th>\n",
       "      <th>Solids</th>\n",
       "      <th>Chloramines</th>\n",
       "      <th>Sulfate</th>\n",
       "      <th>Conductivity</th>\n",
       "      <th>Organic_carbon</th>\n",
       "      <th>Trihalomethanes</th>\n",
       "      <th>Turbidity</th>\n",
       "      <th>Potability</th>\n",
       "    </tr>\n",
       "  </thead>\n",
       "  <tbody>\n",
       "    <tr>\n",
       "      <th>0</th>\n",
       "      <td>NaN</td>\n",
       "      <td>204.890455</td>\n",
       "      <td>20791.318981</td>\n",
       "      <td>7.300212</td>\n",
       "      <td>368.516441</td>\n",
       "      <td>564.308654</td>\n",
       "      <td>10.379783</td>\n",
       "      <td>86.990970</td>\n",
       "      <td>2.963135</td>\n",
       "      <td>0</td>\n",
       "    </tr>\n",
       "    <tr>\n",
       "      <th>1</th>\n",
       "      <td>3.716080</td>\n",
       "      <td>129.422921</td>\n",
       "      <td>18630.057858</td>\n",
       "      <td>6.635246</td>\n",
       "      <td>NaN</td>\n",
       "      <td>592.885359</td>\n",
       "      <td>15.180013</td>\n",
       "      <td>56.329076</td>\n",
       "      <td>4.500656</td>\n",
       "      <td>0</td>\n",
       "    </tr>\n",
       "    <tr>\n",
       "      <th>2</th>\n",
       "      <td>8.099124</td>\n",
       "      <td>224.236259</td>\n",
       "      <td>19909.541732</td>\n",
       "      <td>9.275884</td>\n",
       "      <td>NaN</td>\n",
       "      <td>418.606213</td>\n",
       "      <td>16.868637</td>\n",
       "      <td>66.420093</td>\n",
       "      <td>3.055934</td>\n",
       "      <td>0</td>\n",
       "    </tr>\n",
       "    <tr>\n",
       "      <th>3</th>\n",
       "      <td>8.316766</td>\n",
       "      <td>214.373394</td>\n",
       "      <td>22018.417441</td>\n",
       "      <td>8.059332</td>\n",
       "      <td>356.886136</td>\n",
       "      <td>363.266516</td>\n",
       "      <td>18.436524</td>\n",
       "      <td>100.341674</td>\n",
       "      <td>4.628771</td>\n",
       "      <td>0</td>\n",
       "    </tr>\n",
       "    <tr>\n",
       "      <th>4</th>\n",
       "      <td>9.092223</td>\n",
       "      <td>181.101509</td>\n",
       "      <td>17978.986339</td>\n",
       "      <td>6.546600</td>\n",
       "      <td>310.135738</td>\n",
       "      <td>398.410813</td>\n",
       "      <td>11.558279</td>\n",
       "      <td>31.997993</td>\n",
       "      <td>4.075075</td>\n",
       "      <td>0</td>\n",
       "    </tr>\n",
       "  </tbody>\n",
       "</table>\n",
       "</div>"
      ],
      "text/plain": [
       "         ph    Hardness        Solids  Chloramines     Sulfate  Conductivity  \\\n",
       "0       NaN  204.890455  20791.318981     7.300212  368.516441    564.308654   \n",
       "1  3.716080  129.422921  18630.057858     6.635246         NaN    592.885359   \n",
       "2  8.099124  224.236259  19909.541732     9.275884         NaN    418.606213   \n",
       "3  8.316766  214.373394  22018.417441     8.059332  356.886136    363.266516   \n",
       "4  9.092223  181.101509  17978.986339     6.546600  310.135738    398.410813   \n",
       "\n",
       "   Organic_carbon  Trihalomethanes  Turbidity  Potability  \n",
       "0       10.379783        86.990970   2.963135           0  \n",
       "1       15.180013        56.329076   4.500656           0  \n",
       "2       16.868637        66.420093   3.055934           0  \n",
       "3       18.436524       100.341674   4.628771           0  \n",
       "4       11.558279        31.997993   4.075075           0  "
      ]
     },
     "execution_count": 4,
     "metadata": {},
     "output_type": "execute_result"
    }
   ],
   "source": [
    "df=pd.read_csv(\"water_potability.csv\")\n",
    "df.head()"
   ]
  },
  {
   "cell_type": "code",
   "execution_count": 89,
   "id": "ceac5f8f",
   "metadata": {},
   "outputs": [
    {
     "data": {
      "text/html": [
       "<div>\n",
       "<style scoped>\n",
       "    .dataframe tbody tr th:only-of-type {\n",
       "        vertical-align: middle;\n",
       "    }\n",
       "\n",
       "    .dataframe tbody tr th {\n",
       "        vertical-align: top;\n",
       "    }\n",
       "\n",
       "    .dataframe thead th {\n",
       "        text-align: right;\n",
       "    }\n",
       "</style>\n",
       "<table border=\"1\" class=\"dataframe\">\n",
       "  <thead>\n",
       "    <tr style=\"text-align: right;\">\n",
       "      <th></th>\n",
       "      <th>ph</th>\n",
       "      <th>Hardness</th>\n",
       "    </tr>\n",
       "  </thead>\n",
       "  <tbody>\n",
       "    <tr>\n",
       "      <th>0</th>\n",
       "      <td>NaN</td>\n",
       "      <td>204.890455</td>\n",
       "    </tr>\n",
       "    <tr>\n",
       "      <th>1</th>\n",
       "      <td>3.716080</td>\n",
       "      <td>129.422921</td>\n",
       "    </tr>\n",
       "    <tr>\n",
       "      <th>2</th>\n",
       "      <td>8.099124</td>\n",
       "      <td>224.236259</td>\n",
       "    </tr>\n",
       "    <tr>\n",
       "      <th>3</th>\n",
       "      <td>8.316766</td>\n",
       "      <td>214.373394</td>\n",
       "    </tr>\n",
       "    <tr>\n",
       "      <th>4</th>\n",
       "      <td>9.092223</td>\n",
       "      <td>181.101509</td>\n",
       "    </tr>\n",
       "    <tr>\n",
       "      <th>...</th>\n",
       "      <td>...</td>\n",
       "      <td>...</td>\n",
       "    </tr>\n",
       "    <tr>\n",
       "      <th>3271</th>\n",
       "      <td>4.668102</td>\n",
       "      <td>193.681735</td>\n",
       "    </tr>\n",
       "    <tr>\n",
       "      <th>3272</th>\n",
       "      <td>7.808856</td>\n",
       "      <td>193.553212</td>\n",
       "    </tr>\n",
       "    <tr>\n",
       "      <th>3273</th>\n",
       "      <td>9.419510</td>\n",
       "      <td>175.762646</td>\n",
       "    </tr>\n",
       "    <tr>\n",
       "      <th>3274</th>\n",
       "      <td>5.126763</td>\n",
       "      <td>230.603758</td>\n",
       "    </tr>\n",
       "    <tr>\n",
       "      <th>3275</th>\n",
       "      <td>7.874671</td>\n",
       "      <td>195.102299</td>\n",
       "    </tr>\n",
       "  </tbody>\n",
       "</table>\n",
       "<p>3276 rows × 2 columns</p>\n",
       "</div>"
      ],
      "text/plain": [
       "            ph    Hardness\n",
       "0          NaN  204.890455\n",
       "1     3.716080  129.422921\n",
       "2     8.099124  224.236259\n",
       "3     8.316766  214.373394\n",
       "4     9.092223  181.101509\n",
       "...        ...         ...\n",
       "3271  4.668102  193.681735\n",
       "3272  7.808856  193.553212\n",
       "3273  9.419510  175.762646\n",
       "3274  5.126763  230.603758\n",
       "3275  7.874671  195.102299\n",
       "\n",
       "[3276 rows x 2 columns]"
      ]
     },
     "execution_count": 89,
     "metadata": {},
     "output_type": "execute_result"
    }
   ],
   "source": [
    "df.loc[:,['ph','Hardness']]"
   ]
  },
  {
   "cell_type": "code",
   "execution_count": 5,
   "id": "4aa36432",
   "metadata": {},
   "outputs": [
    {
     "data": {
      "text/plain": [
       "RangeIndex(start=0, stop=3276, step=1)"
      ]
     },
     "execution_count": 5,
     "metadata": {},
     "output_type": "execute_result"
    }
   ],
   "source": [
    "df.index"
   ]
  },
  {
   "cell_type": "code",
   "execution_count": 6,
   "id": "c7ae562d",
   "metadata": {},
   "outputs": [
    {
     "data": {
      "text/plain": [
       "ph                 491\n",
       "Hardness             0\n",
       "Solids               0\n",
       "Chloramines          0\n",
       "Sulfate            781\n",
       "Conductivity         0\n",
       "Organic_carbon       0\n",
       "Trihalomethanes    162\n",
       "Turbidity            0\n",
       "Potability           0\n",
       "dtype: int64"
      ]
     },
     "execution_count": 6,
     "metadata": {},
     "output_type": "execute_result"
    }
   ],
   "source": [
    "df.isnull().sum()"
   ]
  },
  {
   "cell_type": "code",
   "execution_count": 7,
   "id": "05e86546",
   "metadata": {},
   "outputs": [
    {
     "data": {
      "text/html": [
       "<div>\n",
       "<style scoped>\n",
       "    .dataframe tbody tr th:only-of-type {\n",
       "        vertical-align: middle;\n",
       "    }\n",
       "\n",
       "    .dataframe tbody tr th {\n",
       "        vertical-align: top;\n",
       "    }\n",
       "\n",
       "    .dataframe thead th {\n",
       "        text-align: right;\n",
       "    }\n",
       "</style>\n",
       "<table border=\"1\" class=\"dataframe\">\n",
       "  <thead>\n",
       "    <tr style=\"text-align: right;\">\n",
       "      <th></th>\n",
       "      <th>ph</th>\n",
       "      <th>Hardness</th>\n",
       "      <th>Solids</th>\n",
       "      <th>Chloramines</th>\n",
       "      <th>Sulfate</th>\n",
       "      <th>Conductivity</th>\n",
       "      <th>Organic_carbon</th>\n",
       "      <th>Trihalomethanes</th>\n",
       "      <th>Turbidity</th>\n",
       "      <th>Potability</th>\n",
       "    </tr>\n",
       "  </thead>\n",
       "  <tbody>\n",
       "    <tr>\n",
       "      <th>count</th>\n",
       "      <td>2785.000000</td>\n",
       "      <td>3276.000000</td>\n",
       "      <td>3276.000000</td>\n",
       "      <td>3276.000000</td>\n",
       "      <td>2495.000000</td>\n",
       "      <td>3276.000000</td>\n",
       "      <td>3276.000000</td>\n",
       "      <td>3114.000000</td>\n",
       "      <td>3276.000000</td>\n",
       "      <td>3276.000000</td>\n",
       "    </tr>\n",
       "    <tr>\n",
       "      <th>mean</th>\n",
       "      <td>7.080795</td>\n",
       "      <td>196.369496</td>\n",
       "      <td>22014.092526</td>\n",
       "      <td>7.122277</td>\n",
       "      <td>333.775777</td>\n",
       "      <td>426.205111</td>\n",
       "      <td>14.284970</td>\n",
       "      <td>66.396293</td>\n",
       "      <td>3.966786</td>\n",
       "      <td>0.390110</td>\n",
       "    </tr>\n",
       "    <tr>\n",
       "      <th>std</th>\n",
       "      <td>1.594320</td>\n",
       "      <td>32.879761</td>\n",
       "      <td>8768.570828</td>\n",
       "      <td>1.583085</td>\n",
       "      <td>41.416840</td>\n",
       "      <td>80.824064</td>\n",
       "      <td>3.308162</td>\n",
       "      <td>16.175008</td>\n",
       "      <td>0.780382</td>\n",
       "      <td>0.487849</td>\n",
       "    </tr>\n",
       "    <tr>\n",
       "      <th>min</th>\n",
       "      <td>0.000000</td>\n",
       "      <td>47.432000</td>\n",
       "      <td>320.942611</td>\n",
       "      <td>0.352000</td>\n",
       "      <td>129.000000</td>\n",
       "      <td>181.483754</td>\n",
       "      <td>2.200000</td>\n",
       "      <td>0.738000</td>\n",
       "      <td>1.450000</td>\n",
       "      <td>0.000000</td>\n",
       "    </tr>\n",
       "    <tr>\n",
       "      <th>25%</th>\n",
       "      <td>6.093092</td>\n",
       "      <td>176.850538</td>\n",
       "      <td>15666.690297</td>\n",
       "      <td>6.127421</td>\n",
       "      <td>307.699498</td>\n",
       "      <td>365.734414</td>\n",
       "      <td>12.065801</td>\n",
       "      <td>55.844536</td>\n",
       "      <td>3.439711</td>\n",
       "      <td>0.000000</td>\n",
       "    </tr>\n",
       "    <tr>\n",
       "      <th>50%</th>\n",
       "      <td>7.036752</td>\n",
       "      <td>196.967627</td>\n",
       "      <td>20927.833607</td>\n",
       "      <td>7.130299</td>\n",
       "      <td>333.073546</td>\n",
       "      <td>421.884968</td>\n",
       "      <td>14.218338</td>\n",
       "      <td>66.622485</td>\n",
       "      <td>3.955028</td>\n",
       "      <td>0.000000</td>\n",
       "    </tr>\n",
       "    <tr>\n",
       "      <th>75%</th>\n",
       "      <td>8.062066</td>\n",
       "      <td>216.667456</td>\n",
       "      <td>27332.762127</td>\n",
       "      <td>8.114887</td>\n",
       "      <td>359.950170</td>\n",
       "      <td>481.792304</td>\n",
       "      <td>16.557652</td>\n",
       "      <td>77.337473</td>\n",
       "      <td>4.500320</td>\n",
       "      <td>1.000000</td>\n",
       "    </tr>\n",
       "    <tr>\n",
       "      <th>max</th>\n",
       "      <td>14.000000</td>\n",
       "      <td>323.124000</td>\n",
       "      <td>61227.196008</td>\n",
       "      <td>13.127000</td>\n",
       "      <td>481.030642</td>\n",
       "      <td>753.342620</td>\n",
       "      <td>28.300000</td>\n",
       "      <td>124.000000</td>\n",
       "      <td>6.739000</td>\n",
       "      <td>1.000000</td>\n",
       "    </tr>\n",
       "  </tbody>\n",
       "</table>\n",
       "</div>"
      ],
      "text/plain": [
       "                ph     Hardness        Solids  Chloramines      Sulfate  \\\n",
       "count  2785.000000  3276.000000   3276.000000  3276.000000  2495.000000   \n",
       "mean      7.080795   196.369496  22014.092526     7.122277   333.775777   \n",
       "std       1.594320    32.879761   8768.570828     1.583085    41.416840   \n",
       "min       0.000000    47.432000    320.942611     0.352000   129.000000   \n",
       "25%       6.093092   176.850538  15666.690297     6.127421   307.699498   \n",
       "50%       7.036752   196.967627  20927.833607     7.130299   333.073546   \n",
       "75%       8.062066   216.667456  27332.762127     8.114887   359.950170   \n",
       "max      14.000000   323.124000  61227.196008    13.127000   481.030642   \n",
       "\n",
       "       Conductivity  Organic_carbon  Trihalomethanes    Turbidity   Potability  \n",
       "count   3276.000000     3276.000000      3114.000000  3276.000000  3276.000000  \n",
       "mean     426.205111       14.284970        66.396293     3.966786     0.390110  \n",
       "std       80.824064        3.308162        16.175008     0.780382     0.487849  \n",
       "min      181.483754        2.200000         0.738000     1.450000     0.000000  \n",
       "25%      365.734414       12.065801        55.844536     3.439711     0.000000  \n",
       "50%      421.884968       14.218338        66.622485     3.955028     0.000000  \n",
       "75%      481.792304       16.557652        77.337473     4.500320     1.000000  \n",
       "max      753.342620       28.300000       124.000000     6.739000     1.000000  "
      ]
     },
     "execution_count": 7,
     "metadata": {},
     "output_type": "execute_result"
    }
   ],
   "source": [
    "df.describe()"
   ]
  },
  {
   "cell_type": "code",
   "execution_count": 8,
   "id": "9f1f739e",
   "metadata": {},
   "outputs": [
    {
     "data": {
      "text/plain": [
       "<AxesSubplot:>"
      ]
     },
     "execution_count": 8,
     "metadata": {},
     "output_type": "execute_result"
    },
    {
     "data": {
      "image/png": "[encoded data removed]",
      "text/plain": [
       "<Figure size 432x288 with 2 Axes>"
      ]
     },
     "metadata": {
      "needs_background": "light"
     },
     "output_type": "display_data"
    }
   ],
   "source": [
    "sns.heatmap(df.isnull())"
   ]
  },
  {
   "cell_type": "markdown",
   "id": "2b81cbd5",
   "metadata": {},
   "source": [
    "## pH"
   ]
  },
  {
   "cell_type": "code",
   "execution_count": 9,
   "id": "f4993881",
   "metadata": {},
   "outputs": [],
   "source": [
    "safe_to_drink=df.loc[df['Potability']==1,'ph']\n",
    "Not_safe_to_drink=df.loc[df['Potability']==0,'ph']\n",
    "safe_to_drink=safe_to_drink.dropna()\n",
    "Not_safe_to_drink=Not_safe_to_drink.dropna()"
   ]
  },
  {
   "cell_type": "code",
   "execution_count": 10,
   "id": "6d84a041",
   "metadata": {},
   "outputs": [
    {
     "data": {
      "text/plain": [
       "1684"
      ]
     },
     "execution_count": 10,
     "metadata": {},
     "output_type": "execute_result"
    }
   ],
   "source": [
    "len(Not_safe_to_drink)"
   ]
  },
  {
   "cell_type": "code",
   "execution_count": 11,
   "id": "4a71b8de",
   "metadata": {},
   "outputs": [
    {
     "data": {
      "image/png": "[encoded data removed]",
      "text/plain": [
       "<Figure size 720x720 with 1 Axes>"
      ]
     },
     "metadata": {
      "needs_background": "light"
     },
     "output_type": "display_data"
    }
   ],
   "source": [
    "colors= ['#a4bf41','#72e8d2']\n",
    " \n",
    "plt.figure(figsize=(10,10))\n",
    "plt.subplot(1,1,1)\n",
    "pt=plt.boxplot([Not_safe_to_drink,safe_to_drink],labels=['unsafe','safe'],patch_artist=True)\n",
    "for patch,color in zip(pt['boxes'],colors):\n",
    "    patch.set_facecolor(color)\n",
    "plt.show()"
   ]
  },
  {
   "cell_type": "code",
   "execution_count": 12,
   "id": "1978f7c7",
   "metadata": {},
   "outputs": [
    {
     "data": {
      "text/plain": [
       "Text(0, 0.5, 'count')"
      ]
     },
     "execution_count": 12,
     "metadata": {},
     "output_type": "execute_result"
    },
    {
     "data": {
      "image/png": "[encoded data removed]",
      "text/plain": [
       "<Figure size 720x720 with 1 Axes>"
      ]
     },
     "metadata": {
      "needs_background": "light"
     },
     "output_type": "display_data"
    }
   ],
   "source": [
    "plt.figure(figsize=(10,10))\n",
    "style_dict={\n",
    "    \"animated\":True,\n",
    "    \"fontsize\":20\n",
    "}\n",
    "ticks=np.arange(2,8)\n",
    "bars=plt.hist(x=df['ph'],color={\"#72e8d2\"},range=(4,10))\n",
    "plt.xlabel(\"ph level\",fontdict=style_dict)\n",
    "plt.ylabel(\"count\",fontdict=style_dict)"
   ]
  },
  {
   "cell_type": "code",
   "execution_count": 13,
   "id": "18dbc2bb",
   "metadata": {},
   "outputs": [
    {
     "data": {
      "text/plain": [
       "<AxesSubplot:xlabel='ph'>"
      ]
     },
     "execution_count": 13,
     "metadata": {},
     "output_type": "execute_result"
    },
    {
     "data": {
      "image/png": "[encoded data removed]",
      "text/plain": [
       "<Figure size 432x288 with 2 Axes>"
      ]
     },
     "metadata": {
      "needs_background": "light"
     },
     "output_type": "display_data"
    }
   ],
   "source": [
    "plt.subplot(121)\n",
    "sns.kdeplot(x=df['ph'],fill=True,color='#72e8d2')\n",
    "plt.subplot(122)\n",
    "sns.boxplot(x=df['ph'],color='#72e8d2',saturation=0.8)"
   ]
  },
  {
   "cell_type": "code",
   "execution_count": 14,
   "id": "e17ad934",
   "metadata": {},
   "outputs": [
    {
     "data": {
      "text/plain": [
       "2.297835948150383"
      ]
     },
     "execution_count": 14,
     "metadata": {},
     "output_type": "execute_result"
    }
   ],
   "source": [
    "ph_max_outliers=df['ph'].mean()+3*df['ph'].std()\n",
    "ph_max_outliers\n",
    "ph_min_outliers=df['ph'].mean()-3*df['ph'].std()\n",
    "ph_min_outliers"
   ]
  },
  {
   "cell_type": "code",
   "execution_count": 15,
   "id": "f1b3cefd",
   "metadata": {},
   "outputs": [
    {
     "data": {
      "text/plain": [
       "11.863753060403255"
      ]
     },
     "execution_count": 15,
     "metadata": {},
     "output_type": "execute_result"
    }
   ],
   "source": [
    "ph_max_outliers"
   ]
  },
  {
   "cell_type": "code",
   "execution_count": 16,
   "id": "7ebc1c17",
   "metadata": {},
   "outputs": [
    {
     "data": {
      "text/plain": [
       "7"
      ]
     },
     "execution_count": 16,
     "metadata": {},
     "output_type": "execute_result"
    }
   ],
   "source": [
    "df.loc[df['ph']>ph_max_outliers,'ph'].count()"
   ]
  },
  {
   "cell_type": "markdown",
   "id": "5a8efad4",
   "metadata": {},
   "source": [
    "## Hardness"
   ]
  },
  {
   "cell_type": "code",
   "execution_count": 17,
   "id": "1024ca4b",
   "metadata": {},
   "outputs": [],
   "source": [
    "safe_to_drink_h=df.loc[df['Potability']==1,'Hardness']\n",
    "Not_safe_to_drink_h=df.loc[df['Potability']==0,'Hardness']\n",
    "safe_to_drink_h=safe_to_drink_h.dropna()\n",
    "Not_safe_to_drink_h=Not_safe_to_drink_h.dropna()"
   ]
  },
  {
   "cell_type": "code",
   "execution_count": 18,
   "id": "b70f388e",
   "metadata": {},
   "outputs": [
    {
     "data": {
      "image/png": "[encoded data removed]",
      "text/plain": [
       "<Figure size 720x720 with 1 Axes>"
      ]
     },
     "metadata": {
      "needs_background": "light"
     },
     "output_type": "display_data"
    }
   ],
   "source": [
    "colors= ['#5f80ba','#b2ba5f']\n",
    " \n",
    "plt.figure(figsize=(10,10))\n",
    "plt.subplot(1,1,1)\n",
    "pt=plt.boxplot([Not_safe_to_drink_h,safe_to_drink_h],labels=['unsafe','safe'],patch_artist=True)\n",
    "for patch,color in zip(pt['boxes'],colors):\n",
    "    patch.set_facecolor(color)\n",
    "plt.show()"
   ]
  },
  {
   "cell_type": "code",
   "execution_count": 19,
   "id": "3212ab4e",
   "metadata": {},
   "outputs": [
    {
     "data": {
      "text/plain": [
       "Text(0, 0.5, 'count')"
      ]
     },
     "execution_count": 19,
     "metadata": {},
     "output_type": "execute_result"
    },
    {
     "data": {
      "image/png": "[encoded data removed]",
      "text/plain": [
       "<Figure size 720x720 with 1 Axes>"
      ]
     },
     "metadata": {
      "needs_background": "light"
     },
     "output_type": "display_data"
    }
   ],
   "source": [
    "plt.figure(figsize=(10,10))\n",
    "style_dict={\n",
    "    \"animated\":True,\n",
    "    \"fontsize\":20\n",
    "}\n",
    "ticks=np.arange(2,8)\n",
    "bars=plt.hist(x=df['Hardness'],color={\"#b2ba5f\"})\n",
    "plt.xlabel(\"Hardness of Water\",fontdict=style_dict)\n",
    "plt.ylabel(\"count\",fontdict=style_dict)"
   ]
  },
  {
   "cell_type": "code",
   "execution_count": 20,
   "id": "45768c50",
   "metadata": {},
   "outputs": [
    {
     "data": {
      "text/plain": [
       "<AxesSubplot:xlabel='Hardness'>"
      ]
     },
     "execution_count": 20,
     "metadata": {},
     "output_type": "execute_result"
    },
    {
     "data": {
      "image/png": "[encoded data removed]",
      "text/plain": [
       "<Figure size 432x288 with 2 Axes>"
      ]
     },
     "metadata": {
      "needs_background": "light"
     },
     "output_type": "display_data"
    }
   ],
   "source": [
    "plt.subplot(121)\n",
    "sns.kdeplot(x=df['Hardness'],fill=True,color='#b2ba5f')\n",
    "plt.subplot(122)\n",
    "sns.boxplot(x=df['Hardness'],color='#b2ba5f',saturation=0.8)"
   ]
  },
  {
   "cell_type": "markdown",
   "id": "3ac7c19d",
   "metadata": {},
   "source": [
    "# Selecting Features"
   ]
  },
  {
   "cell_type": "code",
   "execution_count": 21,
   "id": "5cf49cd7",
   "metadata": {
    "scrolled": true
   },
   "outputs": [
    {
     "data": {
      "text/plain": [
       "<AxesSubplot:>"
      ]
     },
     "execution_count": 21,
     "metadata": {},
     "output_type": "execute_result"
    },
    {
     "data": {
      "image/png": "[encoded data removed]",
      "text/plain": [
       "<Figure size 720x720 with 2 Axes>"
      ]
     },
     "metadata": {
      "needs_background": "light"
     },
     "output_type": "display_data"
    }
   ],
   "source": [
    "plt.figure(figsize=(10,10))\n",
    "sns.heatmap(data=df.corr(),annot=True,cmap='coolwarm',robust=True)"
   ]
  },
  {
   "cell_type": "markdown",
   "id": "92a75684",
   "metadata": {},
   "source": [
    "### Calculating Variance Threshold"
   ]
  },
  {
   "cell_type": "code",
   "execution_count": 25,
   "id": "bc1d5aa6",
   "metadata": {
    "scrolled": true
   },
   "outputs": [
    {
     "data": {
      "text/plain": [
       "array([ True,  True,  True,  True,  True,  True,  True,  True,  True,\n",
       "        True])"
      ]
     },
     "execution_count": 25,
     "metadata": {},
     "output_type": "execute_result"
    }
   ],
   "source": [
    "from sklearn.feature_selection import VarianceThreshold\n",
    "vt=VarianceThreshold()\n",
    "vt.fit_transform(df_knn)\n",
    "vt.get_support()"
   ]
  },
  {
   "cell_type": "code",
   "execution_count": 26,
   "id": "866d48f5",
   "metadata": {
    "scrolled": true
   },
   "outputs": [
    {
     "data": {
      "text/plain": [
       "Index(['ph', 'Hardness', 'Solids', 'Chloramines', 'Sulfate', 'Conductivity',\n",
       "       'Organic_carbon', 'Trihalomethanes', 'Turbidity', 'Potability'],\n",
       "      dtype='object')"
      ]
     },
     "execution_count": 26,
     "metadata": {},
     "output_type": "execute_result"
    }
   ],
   "source": [
    "df.columns"
   ]
  },
  {
   "cell_type": "code",
   "execution_count": 27,
   "id": "0c9ac4be",
   "metadata": {},
   "outputs": [
    {
     "data": {
      "text/plain": [
       "Index(['ph', 'Hardness', 'Solids', 'Chloramines', 'Sulfate', 'Conductivity',\n",
       "       'Organic_carbon', 'Trihalomethanes', 'Turbidity', 'Potability'],\n",
       "      dtype='object')"
      ]
     },
     "execution_count": 27,
     "metadata": {},
     "output_type": "execute_result"
    }
   ],
   "source": [
    "df_knn.columns[vt.get_support()]"
   ]
  },
  {
   "cell_type": "code",
   "execution_count": 28,
   "id": "d1e6fed6",
   "metadata": {
    "scrolled": true
   },
   "outputs": [
    {
     "data": {
      "text/plain": [
       "[]"
      ]
     },
     "execution_count": 28,
     "metadata": {},
     "output_type": "execute_result"
    }
   ],
   "source": [
    "## we can see that there are no constant columns(They dont have 0 variance)\n",
    "constant_column=[column for column in df_knn.columns if column not in df_knn.columns[vt.get_support()]]\n",
    "constant_column"
   ]
  },
  {
   "cell_type": "markdown",
   "id": "f703694c",
   "metadata": {},
   "source": [
    "### Calculating mutual info gain"
   ]
  },
  {
   "cell_type": "code",
   "execution_count": 33,
   "id": "4eda8e74",
   "metadata": {},
   "outputs": [
    {
     "data": {
      "text/plain": [
       "<AxesSubplot:>"
      ]
     },
     "execution_count": 33,
     "metadata": {},
     "output_type": "execute_result"
    },
    {
     "data": {
      "image/png": "[encoded data removed]",
      "text/plain": [
       "<Figure size 720x432 with 1 Axes>"
      ]
     },
     "metadata": {
      "needs_background": "light"
     },
     "output_type": "display_data"
    }
   ],
   "source": [
    "from sklearn.feature_selection import mutual_info_classif\n",
    "mutual_info=mutual_info_classif(X_train,y_train)\n",
    "\n",
    "mutual_info=pd.Series(mutual_info,index=X_train.columns)\n",
    "mutual_info.sort_values(ascending=False).plot.bar(figsize=(10,6))"
   ]
  },
  {
   "cell_type": "markdown",
   "id": "66d5200e",
   "metadata": {},
   "source": [
    "##  Filling missing values"
   ]
  },
  {
   "cell_type": "code",
   "execution_count": 22,
   "id": "74f9930b",
   "metadata": {},
   "outputs": [
    {
     "data": {
      "text/plain": [
       "array([[6.00742683e+00, 2.04890455e+02, 2.07913190e+04, ...,\n",
       "        8.69909705e+01, 2.96313538e+00, 0.00000000e+00],\n",
       "       [3.71608008e+00, 1.29422921e+02, 1.86300579e+04, ...,\n",
       "        5.63290763e+01, 4.50065627e+00, 0.00000000e+00],\n",
       "       [8.09912419e+00, 2.24236259e+02, 1.99095417e+04, ...,\n",
       "        6.64200925e+01, 3.05593375e+00, 0.00000000e+00],\n",
       "       ...,\n",
       "       [9.41951032e+00, 1.75762646e+02, 3.31555782e+04, ...,\n",
       "        6.98454003e+01, 3.29887550e+00, 1.00000000e+00],\n",
       "       [5.12676292e+00, 2.30603758e+02, 1.19838694e+04, ...,\n",
       "        7.74882131e+01, 4.70865847e+00, 1.00000000e+00],\n",
       "       [7.87467136e+00, 1.95102299e+02, 1.74041771e+04, ...,\n",
       "        7.86984463e+01, 2.30914906e+00, 1.00000000e+00]])"
      ]
     },
     "execution_count": 22,
     "metadata": {},
     "output_type": "execute_result"
    }
   ],
   "source": [
    "from sklearn.impute import KNNImputer\n",
    "impute=KNNImputer(n_neighbors=2)\n",
    "impute.fit_transform(df)"
   ]
  },
  {
   "cell_type": "code",
   "execution_count": 34,
   "id": "8ee21710",
   "metadata": {},
   "outputs": [
    {
     "data": {
      "text/html": [
       "<div>\n",
       "<style scoped>\n",
       "    .dataframe tbody tr th:only-of-type {\n",
       "        vertical-align: middle;\n",
       "    }\n",
       "\n",
       "    .dataframe tbody tr th {\n",
       "        vertical-align: top;\n",
       "    }\n",
       "\n",
       "    .dataframe thead th {\n",
       "        text-align: right;\n",
       "    }\n",
       "</style>\n",
       "<table border=\"1\" class=\"dataframe\">\n",
       "  <thead>\n",
       "    <tr style=\"text-align: right;\">\n",
       "      <th></th>\n",
       "      <th>ph</th>\n",
       "      <th>Hardness</th>\n",
       "      <th>Solids</th>\n",
       "      <th>Chloramines</th>\n",
       "      <th>Sulfate</th>\n",
       "      <th>Conductivity</th>\n",
       "      <th>Organic_carbon</th>\n",
       "      <th>Trihalomethanes</th>\n",
       "      <th>Turbidity</th>\n",
       "      <th>Potability</th>\n",
       "    </tr>\n",
       "  </thead>\n",
       "  <tbody>\n",
       "    <tr>\n",
       "      <th>0</th>\n",
       "      <td>6.007427</td>\n",
       "      <td>204.890455</td>\n",
       "      <td>20791.318981</td>\n",
       "      <td>7.300212</td>\n",
       "      <td>368.516441</td>\n",
       "      <td>564.308654</td>\n",
       "      <td>10.379783</td>\n",
       "      <td>86.990970</td>\n",
       "      <td>2.963135</td>\n",
       "      <td>0.0</td>\n",
       "    </tr>\n",
       "    <tr>\n",
       "      <th>1</th>\n",
       "      <td>3.716080</td>\n",
       "      <td>129.422921</td>\n",
       "      <td>18630.057858</td>\n",
       "      <td>6.635246</td>\n",
       "      <td>326.479827</td>\n",
       "      <td>592.885359</td>\n",
       "      <td>15.180013</td>\n",
       "      <td>56.329076</td>\n",
       "      <td>4.500656</td>\n",
       "      <td>0.0</td>\n",
       "    </tr>\n",
       "    <tr>\n",
       "      <th>2</th>\n",
       "      <td>8.099124</td>\n",
       "      <td>224.236259</td>\n",
       "      <td>19909.541732</td>\n",
       "      <td>9.275884</td>\n",
       "      <td>357.947334</td>\n",
       "      <td>418.606213</td>\n",
       "      <td>16.868637</td>\n",
       "      <td>66.420093</td>\n",
       "      <td>3.055934</td>\n",
       "      <td>0.0</td>\n",
       "    </tr>\n",
       "    <tr>\n",
       "      <th>3</th>\n",
       "      <td>8.316766</td>\n",
       "      <td>214.373394</td>\n",
       "      <td>22018.417441</td>\n",
       "      <td>8.059332</td>\n",
       "      <td>356.886136</td>\n",
       "      <td>363.266516</td>\n",
       "      <td>18.436524</td>\n",
       "      <td>100.341674</td>\n",
       "      <td>4.628771</td>\n",
       "      <td>0.0</td>\n",
       "    </tr>\n",
       "    <tr>\n",
       "      <th>4</th>\n",
       "      <td>9.092223</td>\n",
       "      <td>181.101509</td>\n",
       "      <td>17978.986339</td>\n",
       "      <td>6.546600</td>\n",
       "      <td>310.135738</td>\n",
       "      <td>398.410813</td>\n",
       "      <td>11.558279</td>\n",
       "      <td>31.997993</td>\n",
       "      <td>4.075075</td>\n",
       "      <td>0.0</td>\n",
       "    </tr>\n",
       "    <tr>\n",
       "      <th>...</th>\n",
       "      <td>...</td>\n",
       "      <td>...</td>\n",
       "      <td>...</td>\n",
       "      <td>...</td>\n",
       "      <td>...</td>\n",
       "      <td>...</td>\n",
       "      <td>...</td>\n",
       "      <td>...</td>\n",
       "      <td>...</td>\n",
       "      <td>...</td>\n",
       "    </tr>\n",
       "    <tr>\n",
       "      <th>3271</th>\n",
       "      <td>4.668102</td>\n",
       "      <td>193.681735</td>\n",
       "      <td>47580.991603</td>\n",
       "      <td>7.166639</td>\n",
       "      <td>359.948574</td>\n",
       "      <td>526.424171</td>\n",
       "      <td>13.894419</td>\n",
       "      <td>66.687695</td>\n",
       "      <td>4.435821</td>\n",
       "      <td>1.0</td>\n",
       "    </tr>\n",
       "    <tr>\n",
       "      <th>3272</th>\n",
       "      <td>7.808856</td>\n",
       "      <td>193.553212</td>\n",
       "      <td>17329.802160</td>\n",
       "      <td>8.061362</td>\n",
       "      <td>355.544770</td>\n",
       "      <td>392.449580</td>\n",
       "      <td>19.903225</td>\n",
       "      <td>46.827049</td>\n",
       "      <td>2.798243</td>\n",
       "      <td>1.0</td>\n",
       "    </tr>\n",
       "    <tr>\n",
       "      <th>3273</th>\n",
       "      <td>9.419510</td>\n",
       "      <td>175.762646</td>\n",
       "      <td>33155.578218</td>\n",
       "      <td>7.350233</td>\n",
       "      <td>321.930158</td>\n",
       "      <td>432.044783</td>\n",
       "      <td>11.039070</td>\n",
       "      <td>69.845400</td>\n",
       "      <td>3.298875</td>\n",
       "      <td>1.0</td>\n",
       "    </tr>\n",
       "    <tr>\n",
       "      <th>3274</th>\n",
       "      <td>5.126763</td>\n",
       "      <td>230.603758</td>\n",
       "      <td>11983.869376</td>\n",
       "      <td>6.303357</td>\n",
       "      <td>338.733772</td>\n",
       "      <td>402.883113</td>\n",
       "      <td>11.168946</td>\n",
       "      <td>77.488213</td>\n",
       "      <td>4.708658</td>\n",
       "      <td>1.0</td>\n",
       "    </tr>\n",
       "    <tr>\n",
       "      <th>3275</th>\n",
       "      <td>7.874671</td>\n",
       "      <td>195.102299</td>\n",
       "      <td>17404.177061</td>\n",
       "      <td>7.509306</td>\n",
       "      <td>335.431261</td>\n",
       "      <td>327.459760</td>\n",
       "      <td>16.140368</td>\n",
       "      <td>78.698446</td>\n",
       "      <td>2.309149</td>\n",
       "      <td>1.0</td>\n",
       "    </tr>\n",
       "  </tbody>\n",
       "</table>\n",
       "<p>3276 rows × 10 columns</p>\n",
       "</div>"
      ],
      "text/plain": [
       "            ph    Hardness        Solids  Chloramines     Sulfate  \\\n",
       "0     6.007427  204.890455  20791.318981     7.300212  368.516441   \n",
       "1     3.716080  129.422921  18630.057858     6.635246  326.479827   \n",
       "2     8.099124  224.236259  19909.541732     9.275884  357.947334   \n",
       "3     8.316766  214.373394  22018.417441     8.059332  356.886136   \n",
       "4     9.092223  181.101509  17978.986339     6.546600  310.135738   \n",
       "...        ...         ...           ...          ...         ...   \n",
       "3271  4.668102  193.681735  47580.991603     7.166639  359.948574   \n",
       "3272  7.808856  193.553212  17329.802160     8.061362  355.544770   \n",
       "3273  9.419510  175.762646  33155.578218     7.350233  321.930158   \n",
       "3274  5.126763  230.603758  11983.869376     6.303357  338.733772   \n",
       "3275  7.874671  195.102299  17404.177061     7.509306  335.431261   \n",
       "\n",
       "      Conductivity  Organic_carbon  Trihalomethanes  Turbidity  Potability  \n",
       "0       564.308654       10.379783        86.990970   2.963135         0.0  \n",
       "1       592.885359       15.180013        56.329076   4.500656         0.0  \n",
       "2       418.606213       16.868637        66.420093   3.055934         0.0  \n",
       "3       363.266516       18.436524       100.341674   4.628771         0.0  \n",
       "4       398.410813       11.558279        31.997993   4.075075         0.0  \n",
       "...            ...             ...              ...        ...         ...  \n",
       "3271    526.424171       13.894419        66.687695   4.435821         1.0  \n",
       "3272    392.449580       19.903225        46.827049   2.798243         1.0  \n",
       "3273    432.044783       11.039070        69.845400   3.298875         1.0  \n",
       "3274    402.883113       11.168946        77.488213   4.708658         1.0  \n",
       "3275    327.459760       16.140368        78.698446   2.309149         1.0  \n",
       "\n",
       "[3276 rows x 10 columns]"
      ]
     },
     "execution_count": 34,
     "metadata": {},
     "output_type": "execute_result"
    }
   ],
   "source": [
    "df_knn=pd.DataFrame(impute.fit_transform(df),columns=df.columns)\n",
    "df_knn"
   ]
  },
  {
   "cell_type": "code",
   "execution_count": 100,
   "id": "5fe0a382",
   "metadata": {},
   "outputs": [
    {
     "data": {
      "text/plain": [
       "28.30000000000001"
      ]
     },
     "execution_count": 100,
     "metadata": {},
     "output_type": "execute_result"
    }
   ],
   "source": [
    "df_knn['Organic_carbon'].max()"
   ]
  },
  {
   "cell_type": "code",
   "execution_count": 35,
   "id": "49429844",
   "metadata": {},
   "outputs": [
    {
     "data": {
      "text/html": [
       "<div>\n",
       "<style scoped>\n",
       "    .dataframe tbody tr th:only-of-type {\n",
       "        vertical-align: middle;\n",
       "    }\n",
       "\n",
       "    .dataframe tbody tr th {\n",
       "        vertical-align: top;\n",
       "    }\n",
       "\n",
       "    .dataframe thead th {\n",
       "        text-align: right;\n",
       "    }\n",
       "</style>\n",
       "<table border=\"1\" class=\"dataframe\">\n",
       "  <thead>\n",
       "    <tr style=\"text-align: right;\">\n",
       "      <th></th>\n",
       "      <th>Organic_carbon</th>\n",
       "      <th>Conductivity</th>\n",
       "      <th>Hardness</th>\n",
       "    </tr>\n",
       "  </thead>\n",
       "  <tbody>\n",
       "    <tr>\n",
       "      <th>0</th>\n",
       "      <td>10.379783</td>\n",
       "      <td>564.308654</td>\n",
       "      <td>204.890455</td>\n",
       "    </tr>\n",
       "    <tr>\n",
       "      <th>1</th>\n",
       "      <td>15.180013</td>\n",
       "      <td>592.885359</td>\n",
       "      <td>129.422921</td>\n",
       "    </tr>\n",
       "    <tr>\n",
       "      <th>2</th>\n",
       "      <td>16.868637</td>\n",
       "      <td>418.606213</td>\n",
       "      <td>224.236259</td>\n",
       "    </tr>\n",
       "    <tr>\n",
       "      <th>3</th>\n",
       "      <td>18.436524</td>\n",
       "      <td>363.266516</td>\n",
       "      <td>214.373394</td>\n",
       "    </tr>\n",
       "    <tr>\n",
       "      <th>4</th>\n",
       "      <td>11.558279</td>\n",
       "      <td>398.410813</td>\n",
       "      <td>181.101509</td>\n",
       "    </tr>\n",
       "    <tr>\n",
       "      <th>...</th>\n",
       "      <td>...</td>\n",
       "      <td>...</td>\n",
       "      <td>...</td>\n",
       "    </tr>\n",
       "    <tr>\n",
       "      <th>3271</th>\n",
       "      <td>13.894419</td>\n",
       "      <td>526.424171</td>\n",
       "      <td>193.681735</td>\n",
       "    </tr>\n",
       "    <tr>\n",
       "      <th>3272</th>\n",
       "      <td>19.903225</td>\n",
       "      <td>392.449580</td>\n",
       "      <td>193.553212</td>\n",
       "    </tr>\n",
       "    <tr>\n",
       "      <th>3273</th>\n",
       "      <td>11.039070</td>\n",
       "      <td>432.044783</td>\n",
       "      <td>175.762646</td>\n",
       "    </tr>\n",
       "    <tr>\n",
       "      <th>3274</th>\n",
       "      <td>11.168946</td>\n",
       "      <td>402.883113</td>\n",
       "      <td>230.603758</td>\n",
       "    </tr>\n",
       "    <tr>\n",
       "      <th>3275</th>\n",
       "      <td>16.140368</td>\n",
       "      <td>327.459760</td>\n",
       "      <td>195.102299</td>\n",
       "    </tr>\n",
       "  </tbody>\n",
       "</table>\n",
       "<p>3276 rows × 3 columns</p>\n",
       "</div>"
      ],
      "text/plain": [
       "      Organic_carbon  Conductivity    Hardness\n",
       "0          10.379783    564.308654  204.890455\n",
       "1          15.180013    592.885359  129.422921\n",
       "2          16.868637    418.606213  224.236259\n",
       "3          18.436524    363.266516  214.373394\n",
       "4          11.558279    398.410813  181.101509\n",
       "...              ...           ...         ...\n",
       "3271       13.894419    526.424171  193.681735\n",
       "3272       19.903225    392.449580  193.553212\n",
       "3273       11.039070    432.044783  175.762646\n",
       "3274       11.168946    402.883113  230.603758\n",
       "3275       16.140368    327.459760  195.102299\n",
       "\n",
       "[3276 rows x 3 columns]"
      ]
     },
     "execution_count": 35,
     "metadata": {},
     "output_type": "execute_result"
    }
   ],
   "source": [
    "X=df_knn.loc[:,['Organic_carbon','Conductivity','Hardness']]\n",
    "X"
   ]
  },
  {
   "cell_type": "code",
   "execution_count": 36,
   "id": "8c8b4b84",
   "metadata": {},
   "outputs": [
    {
     "data": {
      "text/plain": [
       "0       0.0\n",
       "1       0.0\n",
       "2       0.0\n",
       "3       0.0\n",
       "4       0.0\n",
       "       ... \n",
       "3271    1.0\n",
       "3272    1.0\n",
       "3273    1.0\n",
       "3274    1.0\n",
       "3275    1.0\n",
       "Name: Potability, Length: 3276, dtype: float64"
      ]
     },
     "execution_count": 36,
     "metadata": {},
     "output_type": "execute_result"
    }
   ],
   "source": [
    "df_knn.iloc[:,-1]"
   ]
  },
  {
   "cell_type": "code",
   "execution_count": 37,
   "id": "d002e97c",
   "metadata": {},
   "outputs": [],
   "source": [
    "from sklearn.model_selection import train_test_split\n",
    "from sklearn.metrics import confusion_matrix,classification_report,accuracy_score"
   ]
  },
  {
   "cell_type": "code",
   "execution_count": 38,
   "id": "fa6f862b",
   "metadata": {},
   "outputs": [],
   "source": [
    "X_train,X_test,y_train,y_test=train_test_split(X,df_knn.iloc[:,-1],test_size=0.30,random_state=2)"
   ]
  },
  {
   "cell_type": "code",
   "execution_count": 39,
   "id": "c07eb979",
   "metadata": {},
   "outputs": [
    {
     "data": {
      "text/plain": [
       "622     0.0\n",
       "2366    1.0\n",
       "827     0.0\n",
       "826     0.0\n",
       "2476    0.0\n",
       "       ... \n",
       "2347    1.0\n",
       "1608    1.0\n",
       "2541    0.0\n",
       "2575    0.0\n",
       "3240    1.0\n",
       "Name: Potability, Length: 2293, dtype: float64"
      ]
     },
     "execution_count": 39,
     "metadata": {},
     "output_type": "execute_result"
    }
   ],
   "source": [
    "y_train"
   ]
  },
  {
   "cell_type": "code",
   "execution_count": 40,
   "id": "f2407c41",
   "metadata": {},
   "outputs": [
    {
     "name": "stdout",
     "output_type": "stream",
     "text": [
      "{'n_estimators': [100, 222, 344, 466, 588, 711, 833, 955, 1077, 1200], 'max_features': ['auto', 'sqrt', 'log2'], 'criterion': ['gini', 'entropy'], 'max_depth': [100, 109, 118, 127, 136, 145, 154, 163, 172, 181, 190, 200, 209, 218, 227, 236, 245, 254, 263, 272, 281, 290, 300, 309, 318, 327, 336, 345, 354, 363, 372, 381, 390, 400, 409, 418, 427, 436, 445, 454, 463, 472, 481, 490, 500, 509, 518, 527, 536, 545, 554, 563, 572, 581, 590, 600, 609, 618, 627, 636, 645, 654, 663, 672, 681, 690, 700, 709, 718, 727, 736, 745, 754, 763, 772, 781, 790, 800, 809, 818, 827, 836, 845, 854, 863, 872, 881, 890, 900, 909, 918, 927, 936, 945, 954, 963, 972, 981, 990, 1000], 'min_samples_split': [2, 3, 5, 6], 'min_samples_leaf': [2, 3, 4, 6]}\n"
     ]
    }
   ],
   "source": [
    "from sklearn.ensemble import RandomForestClassifier\n",
    "from sklearn.model_selection import RandomizedSearchCV\n",
    "\n",
    "n_estimators=[int(x) for x in np.linspace(start=100,stop=1200,num=10)]\n",
    "\n",
    "max_features=['auto','sqrt','log2']\n",
    "\n",
    "max_depth=[int(x) for x in np.linspace(100,1000,100)]\n",
    "\n",
    "min_samples_split=[2,3,5,6]\n",
    "min_samples_leaf=[2,3,4,6]\n",
    "\n",
    "random_grid={'n_estimators':n_estimators,\n",
    "             'max_features':max_features,\n",
    "             'criterion':[\"gini\", \"entropy\"],\n",
    "             'max_depth':max_depth,\n",
    "             'min_samples_split':min_samples_split,\n",
    "             'min_samples_leaf':min_samples_leaf}\n",
    "print(random_grid)\n"
   ]
  },
  {
   "cell_type": "code",
   "execution_count": 41,
   "id": "1be83da1",
   "metadata": {
    "scrolled": true
   },
   "outputs": [
    {
     "name": "stdout",
     "output_type": "stream",
     "text": [
      "Fitting 10 folds for each of 10 candidates, totalling 100 fits\n",
      "[CV] END criterion=gini, max_depth=827, max_features=auto, min_samples_leaf=2, min_samples_split=2, n_estimators=1077; total time=   2.5s\n",
      "[CV] END criterion=gini, max_depth=827, max_features=auto, min_samples_leaf=2, min_samples_split=2, n_estimators=1077; total time=   2.6s\n",
      "[CV] END criterion=gini, max_depth=827, max_features=auto, min_samples_leaf=2, min_samples_split=2, n_estimators=1077; total time=   2.7s\n",
      "[CV] END criterion=gini, max_depth=827, max_features=auto, min_samples_leaf=2, min_samples_split=2, n_estimators=1077; total time=   2.6s\n",
      "[CV] END criterion=gini, max_depth=827, max_features=auto, min_samples_leaf=2, min_samples_split=2, n_estimators=1077; total time=   2.5s\n",
      "[CV] END criterion=gini, max_depth=827, max_features=auto, min_samples_leaf=2, min_samples_split=2, n_estimators=1077; total time=   2.6s\n",
      "[CV] END criterion=gini, max_depth=827, max_features=auto, min_samples_leaf=2, min_samples_split=2, n_estimators=1077; total time=   2.5s\n",
      "[CV] END criterion=gini, max_depth=827, max_features=auto, min_samples_leaf=2, min_samples_split=2, n_estimators=1077; total time=   2.6s\n",
      "[CV] END criterion=gini, max_depth=827, max_features=auto, min_samples_leaf=2, min_samples_split=2, n_estimators=1077; total time=   2.5s\n",
      "[CV] END criterion=gini, max_depth=827, max_features=auto, min_samples_leaf=2, min_samples_split=2, n_estimators=1077; total time=   2.6s\n",
      "[CV] END criterion=entropy, max_depth=245, max_features=log2, min_samples_leaf=4, min_samples_split=2, n_estimators=1077; total time=   3.4s\n",
      "[CV] END criterion=entropy, max_depth=245, max_features=log2, min_samples_leaf=4, min_samples_split=2, n_estimators=1077; total time=   3.3s\n",
      "[CV] END criterion=entropy, max_depth=245, max_features=log2, min_samples_leaf=4, min_samples_split=2, n_estimators=1077; total time=   3.5s\n",
      "[CV] END criterion=entropy, max_depth=245, max_features=log2, min_samples_leaf=4, min_samples_split=2, n_estimators=1077; total time=   3.4s\n",
      "[CV] END criterion=entropy, max_depth=245, max_features=log2, min_samples_leaf=4, min_samples_split=2, n_estimators=1077; total time=   3.7s\n",
      "[CV] END criterion=entropy, max_depth=245, max_features=log2, min_samples_leaf=4, min_samples_split=2, n_estimators=1077; total time=   3.7s\n",
      "[CV] END criterion=entropy, max_depth=245, max_features=log2, min_samples_leaf=4, min_samples_split=2, n_estimators=1077; total time=   3.5s\n",
      "[CV] END criterion=entropy, max_depth=245, max_features=log2, min_samples_leaf=4, min_samples_split=2, n_estimators=1077; total time=   3.4s\n",
      "[CV] END criterion=entropy, max_depth=245, max_features=log2, min_samples_leaf=4, min_samples_split=2, n_estimators=1077; total time=   3.3s\n",
      "[CV] END criterion=entropy, max_depth=245, max_features=log2, min_samples_leaf=4, min_samples_split=2, n_estimators=1077; total time=   3.4s\n",
      "[CV] END criterion=entropy, max_depth=700, max_features=auto, min_samples_leaf=2, min_samples_split=2, n_estimators=466; total time=   1.6s\n",
      "[CV] END criterion=entropy, max_depth=700, max_features=auto, min_samples_leaf=2, min_samples_split=2, n_estimators=466; total time=   1.5s\n",
      "[CV] END criterion=entropy, max_depth=700, max_features=auto, min_samples_leaf=2, min_samples_split=2, n_estimators=466; total time=   1.7s\n",
      "[CV] END criterion=entropy, max_depth=700, max_features=auto, min_samples_leaf=2, min_samples_split=2, n_estimators=466; total time=   1.6s\n",
      "[CV] END criterion=entropy, max_depth=700, max_features=auto, min_samples_leaf=2, min_samples_split=2, n_estimators=466; total time=   1.5s\n",
      "[CV] END criterion=entropy, max_depth=700, max_features=auto, min_samples_leaf=2, min_samples_split=2, n_estimators=466; total time=   1.5s\n",
      "[CV] END criterion=entropy, max_depth=700, max_features=auto, min_samples_leaf=2, min_samples_split=2, n_estimators=466; total time=   1.5s\n",
      "[CV] END criterion=entropy, max_depth=700, max_features=auto, min_samples_leaf=2, min_samples_split=2, n_estimators=466; total time=   1.6s\n",
      "[CV] END criterion=entropy, max_depth=700, max_features=auto, min_samples_leaf=2, min_samples_split=2, n_estimators=466; total time=   1.6s\n",
      "[CV] END criterion=entropy, max_depth=700, max_features=auto, min_samples_leaf=2, min_samples_split=2, n_estimators=466; total time=   1.5s\n",
      "[CV] END criterion=entropy, max_depth=654, max_features=log2, min_samples_leaf=3, min_samples_split=3, n_estimators=711; total time=   2.3s\n",
      "[CV] END criterion=entropy, max_depth=654, max_features=log2, min_samples_leaf=3, min_samples_split=3, n_estimators=711; total time=   2.2s\n",
      "[CV] END criterion=entropy, max_depth=654, max_features=log2, min_samples_leaf=3, min_samples_split=3, n_estimators=711; total time=   2.3s\n",
      "[CV] END criterion=entropy, max_depth=654, max_features=log2, min_samples_leaf=3, min_samples_split=3, n_estimators=711; total time=   2.3s\n",
      "[CV] END criterion=entropy, max_depth=654, max_features=log2, min_samples_leaf=3, min_samples_split=3, n_estimators=711; total time=   2.2s\n",
      "[CV] END criterion=entropy, max_depth=654, max_features=log2, min_samples_leaf=3, min_samples_split=3, n_estimators=711; total time=   2.3s\n",
      "[CV] END criterion=entropy, max_depth=654, max_features=log2, min_samples_leaf=3, min_samples_split=3, n_estimators=711; total time=   2.2s\n",
      "[CV] END criterion=entropy, max_depth=654, max_features=log2, min_samples_leaf=3, min_samples_split=3, n_estimators=711; total time=   2.3s\n",
      "[CV] END criterion=entropy, max_depth=654, max_features=log2, min_samples_leaf=3, min_samples_split=3, n_estimators=711; total time=   2.2s\n",
      "[CV] END criterion=entropy, max_depth=654, max_features=log2, min_samples_leaf=3, min_samples_split=3, n_estimators=711; total time=   2.2s\n",
      "[CV] END criterion=entropy, max_depth=427, max_features=log2, min_samples_leaf=2, min_samples_split=3, n_estimators=711; total time=   2.5s\n",
      "[CV] END criterion=entropy, max_depth=427, max_features=log2, min_samples_leaf=2, min_samples_split=3, n_estimators=711; total time=   2.4s\n",
      "[CV] END criterion=entropy, max_depth=427, max_features=log2, min_samples_leaf=2, min_samples_split=3, n_estimators=711; total time=   2.5s\n",
      "[CV] END criterion=entropy, max_depth=427, max_features=log2, min_samples_leaf=2, min_samples_split=3, n_estimators=711; total time=   2.4s\n",
      "[CV] END criterion=entropy, max_depth=427, max_features=log2, min_samples_leaf=2, min_samples_split=3, n_estimators=711; total time=   2.4s\n",
      "[CV] END criterion=entropy, max_depth=427, max_features=log2, min_samples_leaf=2, min_samples_split=3, n_estimators=711; total time=   2.4s\n",
      "[CV] END criterion=entropy, max_depth=427, max_features=log2, min_samples_leaf=2, min_samples_split=3, n_estimators=711; total time=   2.4s\n",
      "[CV] END criterion=entropy, max_depth=427, max_features=log2, min_samples_leaf=2, min_samples_split=3, n_estimators=711; total time=   2.4s\n",
      "[CV] END criterion=entropy, max_depth=427, max_features=log2, min_samples_leaf=2, min_samples_split=3, n_estimators=711; total time=   2.4s\n",
      "[CV] END criterion=entropy, max_depth=427, max_features=log2, min_samples_leaf=2, min_samples_split=3, n_estimators=711; total time=   2.4s\n",
      "[CV] END criterion=entropy, max_depth=736, max_features=sqrt, min_samples_leaf=4, min_samples_split=2, n_estimators=100; total time=   0.2s\n",
      "[CV] END criterion=entropy, max_depth=736, max_features=sqrt, min_samples_leaf=4, min_samples_split=2, n_estimators=100; total time=   0.2s\n",
      "[CV] END criterion=entropy, max_depth=736, max_features=sqrt, min_samples_leaf=4, min_samples_split=2, n_estimators=100; total time=   0.2s\n",
      "[CV] END criterion=entropy, max_depth=736, max_features=sqrt, min_samples_leaf=4, min_samples_split=2, n_estimators=100; total time=   0.2s\n",
      "[CV] END criterion=entropy, max_depth=736, max_features=sqrt, min_samples_leaf=4, min_samples_split=2, n_estimators=100; total time=   0.2s\n",
      "[CV] END criterion=entropy, max_depth=736, max_features=sqrt, min_samples_leaf=4, min_samples_split=2, n_estimators=100; total time=   0.2s\n",
      "[CV] END criterion=entropy, max_depth=736, max_features=sqrt, min_samples_leaf=4, min_samples_split=2, n_estimators=100; total time=   0.2s\n",
      "[CV] END criterion=entropy, max_depth=736, max_features=sqrt, min_samples_leaf=4, min_samples_split=2, n_estimators=100; total time=   0.2s\n",
      "[CV] END criterion=entropy, max_depth=736, max_features=sqrt, min_samples_leaf=4, min_samples_split=2, n_estimators=100; total time=   0.2s\n"
     ]
    },
    {
     "name": "stdout",
     "output_type": "stream",
     "text": [
      "[CV] END criterion=entropy, max_depth=736, max_features=sqrt, min_samples_leaf=4, min_samples_split=2, n_estimators=100; total time=   0.2s\n",
      "[CV] END criterion=entropy, max_depth=390, max_features=auto, min_samples_leaf=2, min_samples_split=3, n_estimators=100; total time=   0.3s\n",
      "[CV] END criterion=entropy, max_depth=390, max_features=auto, min_samples_leaf=2, min_samples_split=3, n_estimators=100; total time=   0.2s\n",
      "[CV] END criterion=entropy, max_depth=390, max_features=auto, min_samples_leaf=2, min_samples_split=3, n_estimators=100; total time=   0.3s\n",
      "[CV] END criterion=entropy, max_depth=390, max_features=auto, min_samples_leaf=2, min_samples_split=3, n_estimators=100; total time=   0.3s\n",
      "[CV] END criterion=entropy, max_depth=390, max_features=auto, min_samples_leaf=2, min_samples_split=3, n_estimators=100; total time=   0.3s\n",
      "[CV] END criterion=entropy, max_depth=390, max_features=auto, min_samples_leaf=2, min_samples_split=3, n_estimators=100; total time=   0.3s\n",
      "[CV] END criterion=entropy, max_depth=390, max_features=auto, min_samples_leaf=2, min_samples_split=3, n_estimators=100; total time=   0.3s\n",
      "[CV] END criterion=entropy, max_depth=390, max_features=auto, min_samples_leaf=2, min_samples_split=3, n_estimators=100; total time=   0.3s\n",
      "[CV] END criterion=entropy, max_depth=390, max_features=auto, min_samples_leaf=2, min_samples_split=3, n_estimators=100; total time=   0.3s\n",
      "[CV] END criterion=entropy, max_depth=390, max_features=auto, min_samples_leaf=2, min_samples_split=3, n_estimators=100; total time=   0.3s\n",
      "[CV] END criterion=entropy, max_depth=745, max_features=sqrt, min_samples_leaf=2, min_samples_split=6, n_estimators=100; total time=   0.3s\n",
      "[CV] END criterion=entropy, max_depth=745, max_features=sqrt, min_samples_leaf=2, min_samples_split=6, n_estimators=100; total time=   0.2s\n",
      "[CV] END criterion=entropy, max_depth=745, max_features=sqrt, min_samples_leaf=2, min_samples_split=6, n_estimators=100; total time=   0.3s\n",
      "[CV] END criterion=entropy, max_depth=745, max_features=sqrt, min_samples_leaf=2, min_samples_split=6, n_estimators=100; total time=   0.3s\n",
      "[CV] END criterion=entropy, max_depth=745, max_features=sqrt, min_samples_leaf=2, min_samples_split=6, n_estimators=100; total time=   0.3s\n",
      "[CV] END criterion=entropy, max_depth=745, max_features=sqrt, min_samples_leaf=2, min_samples_split=6, n_estimators=100; total time=   0.3s\n",
      "[CV] END criterion=entropy, max_depth=745, max_features=sqrt, min_samples_leaf=2, min_samples_split=6, n_estimators=100; total time=   0.2s\n",
      "[CV] END criterion=entropy, max_depth=745, max_features=sqrt, min_samples_leaf=2, min_samples_split=6, n_estimators=100; total time=   0.3s\n",
      "[CV] END criterion=entropy, max_depth=745, max_features=sqrt, min_samples_leaf=2, min_samples_split=6, n_estimators=100; total time=   0.3s\n",
      "[CV] END criterion=entropy, max_depth=745, max_features=sqrt, min_samples_leaf=2, min_samples_split=6, n_estimators=100; total time=   0.3s\n",
      "[CV] END criterion=gini, max_depth=363, max_features=log2, min_samples_leaf=2, min_samples_split=5, n_estimators=100; total time=   0.1s\n",
      "[CV] END criterion=gini, max_depth=363, max_features=log2, min_samples_leaf=2, min_samples_split=5, n_estimators=100; total time=   0.2s\n",
      "[CV] END criterion=gini, max_depth=363, max_features=log2, min_samples_leaf=2, min_samples_split=5, n_estimators=100; total time=   0.2s\n",
      "[CV] END criterion=gini, max_depth=363, max_features=log2, min_samples_leaf=2, min_samples_split=5, n_estimators=100; total time=   0.1s\n",
      "[CV] END criterion=gini, max_depth=363, max_features=log2, min_samples_leaf=2, min_samples_split=5, n_estimators=100; total time=   0.1s\n",
      "[CV] END criterion=gini, max_depth=363, max_features=log2, min_samples_leaf=2, min_samples_split=5, n_estimators=100; total time=   0.1s\n",
      "[CV] END criterion=gini, max_depth=363, max_features=log2, min_samples_leaf=2, min_samples_split=5, n_estimators=100; total time=   0.1s\n",
      "[CV] END criterion=gini, max_depth=363, max_features=log2, min_samples_leaf=2, min_samples_split=5, n_estimators=100; total time=   0.1s\n",
      "[CV] END criterion=gini, max_depth=363, max_features=log2, min_samples_leaf=2, min_samples_split=5, n_estimators=100; total time=   0.1s\n",
      "[CV] END criterion=gini, max_depth=363, max_features=log2, min_samples_leaf=2, min_samples_split=5, n_estimators=100; total time=   0.1s\n",
      "[CV] END criterion=entropy, max_depth=618, max_features=sqrt, min_samples_leaf=4, min_samples_split=3, n_estimators=1077; total time=   3.3s\n",
      "[CV] END criterion=entropy, max_depth=618, max_features=sqrt, min_samples_leaf=4, min_samples_split=3, n_estimators=1077; total time=   3.2s\n",
      "[CV] END criterion=entropy, max_depth=618, max_features=sqrt, min_samples_leaf=4, min_samples_split=3, n_estimators=1077; total time=   3.3s\n",
      "[CV] END criterion=entropy, max_depth=618, max_features=sqrt, min_samples_leaf=4, min_samples_split=3, n_estimators=1077; total time=   3.3s\n",
      "[CV] END criterion=entropy, max_depth=618, max_features=sqrt, min_samples_leaf=4, min_samples_split=3, n_estimators=1077; total time=   3.2s\n",
      "[CV] END criterion=entropy, max_depth=618, max_features=sqrt, min_samples_leaf=4, min_samples_split=3, n_estimators=1077; total time=   3.3s\n",
      "[CV] END criterion=entropy, max_depth=618, max_features=sqrt, min_samples_leaf=4, min_samples_split=3, n_estimators=1077; total time=   3.2s\n",
      "[CV] END criterion=entropy, max_depth=618, max_features=sqrt, min_samples_leaf=4, min_samples_split=3, n_estimators=1077; total time=   3.3s\n",
      "[CV] END criterion=entropy, max_depth=618, max_features=sqrt, min_samples_leaf=4, min_samples_split=3, n_estimators=1077; total time=   3.3s\n",
      "[CV] END criterion=entropy, max_depth=618, max_features=sqrt, min_samples_leaf=4, min_samples_split=3, n_estimators=1077; total time=   3.3s\n"
     ]
    },
    {
     "data": {
      "text/plain": [
       "RandomizedSearchCV(cv=10, estimator=RandomForestClassifier(),\n",
       "                   param_distributions={'criterion': ['gini', 'entropy'],\n",
       "                                        'max_depth': [100, 109, 118, 127, 136,\n",
       "                                                      145, 154, 163, 172, 181,\n",
       "                                                      190, 200, 209, 218, 227,\n",
       "                                                      236, 245, 254, 263, 272,\n",
       "                                                      281, 290, 300, 309, 318,\n",
       "                                                      327, 336, 345, 354, 363, ...],\n",
       "                                        'max_features': ['auto', 'sqrt',\n",
       "                                                         'log2'],\n",
       "                                        'min_samples_leaf': [2, 3, 4, 6],\n",
       "                                        'min_samples_split': [2, 3, 5, 6],\n",
       "                                        'n_estimators': [100, 222, 344, 466,\n",
       "                                                         588, 711, 833, 955,\n",
       "                                                         1077, 1200]},\n",
       "                   random_state=100, verbose=2)"
      ]
     },
     "execution_count": 41,
     "metadata": {},
     "output_type": "execute_result"
    }
   ],
   "source": [
    "rf=RandomForestClassifier()\n",
    "rf_model=RandomizedSearchCV(estimator=rf,param_distributions=random_grid,n_iter=10,cv=10,verbose=2,\n",
    "                            random_state=100)\n",
    "rf_model.fit(X_train,y_train)"
   ]
  },
  {
   "cell_type": "code",
   "execution_count": 42,
   "id": "c357978c",
   "metadata": {},
   "outputs": [
    {
     "data": {
      "text/plain": [
       "RandomForestClassifier(criterion='entropy', max_depth=618, max_features='sqrt',\n",
       "                       min_samples_leaf=4, min_samples_split=3,\n",
       "                       n_estimators=1077)"
      ]
     },
     "execution_count": 42,
     "metadata": {},
     "output_type": "execute_result"
    }
   ],
   "source": [
    "best_rf_model=rf_model.best_estimator_\n",
    "best_rf_model"
   ]
  },
  {
   "cell_type": "code",
   "execution_count": 43,
   "id": "71ffe7a7",
   "metadata": {},
   "outputs": [
    {
     "data": {
      "text/plain": [
       "{'n_estimators': 1077,\n",
       " 'min_samples_split': 3,\n",
       " 'min_samples_leaf': 4,\n",
       " 'max_features': 'sqrt',\n",
       " 'max_depth': 618,\n",
       " 'criterion': 'entropy'}"
      ]
     },
     "execution_count": 43,
     "metadata": {},
     "output_type": "execute_result"
    }
   ],
   "source": [
    "rf_model.best_params_"
   ]
  },
  {
   "cell_type": "code",
   "execution_count": 44,
   "id": "afe90d1e",
   "metadata": {},
   "outputs": [],
   "source": [
    "y_pred=best_rf_model.predict(X_test)"
   ]
  },
  {
   "cell_type": "code",
   "execution_count": 45,
   "id": "a5d99c54",
   "metadata": {},
   "outputs": [
    {
     "data": {
      "text/plain": [
       "array([[512,  87],\n",
       "       [328,  56]], dtype=int64)"
      ]
     },
     "execution_count": 45,
     "metadata": {},
     "output_type": "execute_result"
    }
   ],
   "source": [
    "confusion_matrix(y_test,y_pred)"
   ]
  },
  {
   "cell_type": "code",
   "execution_count": 46,
   "id": "64c8a9a7",
   "metadata": {},
   "outputs": [
    {
     "name": "stdout",
     "output_type": "stream",
     "text": [
      "the accuracy is 0.5778229908443541\n"
     ]
    }
   ],
   "source": [
    "print(\"the accuracy is {}\".format(accuracy_score(y_test,y_pred)))"
   ]
  },
  {
   "cell_type": "code",
   "execution_count": 47,
   "id": "67ed2ac3",
   "metadata": {},
   "outputs": [
    {
     "name": "stdout",
     "output_type": "stream",
     "text": [
      "              precision    recall  f1-score   support\n",
      "\n",
      "         0.0       0.61      0.85      0.71       599\n",
      "         1.0       0.39      0.15      0.21       384\n",
      "\n",
      "    accuracy                           0.58       983\n",
      "   macro avg       0.50      0.50      0.46       983\n",
      "weighted avg       0.52      0.58      0.52       983\n",
      "\n"
     ]
    }
   ],
   "source": [
    "print(classification_report(y_test,y_pred))"
   ]
  },
  {
   "cell_type": "code",
   "execution_count": 49,
   "id": "6903e4f5",
   "metadata": {},
   "outputs": [
    {
     "name": "stdout",
     "output_type": "stream",
     "text": [
      "{'max_depth': [618], 'max_features': ['sqrt'], 'min_samples_leaf': [5, 6], 'min_samples_split': [4, 5], 'n_estimators': [1027, 1077, 1127]}\n"
     ]
    }
   ],
   "source": [
    "from sklearn.model_selection import GridSearchCV\n",
    "\n",
    "param_grid = {\n",
    "    'max_depth': [rf_model.best_params_['max_depth']],\n",
    "    'max_features': [rf_model.best_params_['max_features']],\n",
    "    'min_samples_leaf': [rf_model.best_params_['min_samples_leaf']+1, \n",
    "                         rf_model.best_params_['min_samples_leaf']+2],\n",
    "    \n",
    "    'min_samples_split': [rf_model.best_params_['min_samples_split'] +1,\n",
    "                          rf_model.best_params_['min_samples_split']+2,],\n",
    "    \n",
    "    'n_estimators': [rf_model.best_params_['n_estimators'] - 50, \n",
    "                     rf_model.best_params_['n_estimators'], \n",
    "                     rf_model.best_params_['n_estimators'] +50]\n",
    "}\n",
    "\n",
    "print(param_grid)"
   ]
  },
  {
   "cell_type": "code",
   "execution_count": 50,
   "id": "b910c2cb",
   "metadata": {},
   "outputs": [
    {
     "data": {
      "text/plain": [
       "GridSearchCV(cv=2, estimator=RandomForestClassifier(),\n",
       "             param_grid={'max_depth': [618], 'max_features': ['sqrt'],\n",
       "                         'min_samples_leaf': [5, 6],\n",
       "                         'min_samples_split': [4, 5],\n",
       "                         'n_estimators': [1027, 1077, 1127]})"
      ]
     },
     "execution_count": 50,
     "metadata": {},
     "output_type": "execute_result"
    }
   ],
   "source": [
    "gs=GridSearchCV(estimator=rf,param_grid=param_grid,cv=2)\n",
    "gs.fit(X_train,y_train)"
   ]
  },
  {
   "cell_type": "code",
   "execution_count": 51,
   "id": "a9040180",
   "metadata": {},
   "outputs": [],
   "source": [
    "rf_gs_model=gs.best_estimator_"
   ]
  },
  {
   "cell_type": "code",
   "execution_count": 52,
   "id": "8f831797",
   "metadata": {},
   "outputs": [],
   "source": [
    "y_pred_gs=rf_gs_model.predict(X_test)"
   ]
  },
  {
   "cell_type": "code",
   "execution_count": 53,
   "id": "3eeb8460",
   "metadata": {},
   "outputs": [],
   "source": [
    "y_train_pred_gs=rf_gs_model.predict(X_train)"
   ]
  },
  {
   "cell_type": "code",
   "execution_count": 54,
   "id": "2b9aff56",
   "metadata": {
    "scrolled": true
   },
   "outputs": [
    {
     "data": {
      "text/plain": [
       "array([[525,  74],\n",
       "       [333,  51]], dtype=int64)"
      ]
     },
     "execution_count": 54,
     "metadata": {},
     "output_type": "execute_result"
    }
   ],
   "source": [
    "confusion_matrix(y_test,y_pred_gs)"
   ]
  },
  {
   "cell_type": "code",
   "execution_count": 55,
   "id": "f2e63171",
   "metadata": {},
   "outputs": [
    {
     "name": "stdout",
     "output_type": "stream",
     "text": [
      "the accuracy(training) is 0.8129088530309638\n"
     ]
    }
   ],
   "source": [
    "print(\"the accuracy(training) is {}\".format(accuracy_score(y_train,y_train_pred_gs)))"
   ]
  },
  {
   "cell_type": "code",
   "execution_count": 57,
   "id": "a1c3deeb",
   "metadata": {},
   "outputs": [
    {
     "name": "stdout",
     "output_type": "stream",
     "text": [
      "the accuracy(test)is 0.5859613428280773\n"
     ]
    }
   ],
   "source": [
    "print(\"the accuracy(test)is {}\".format(accuracy_score(y_test,y_pred_gs)))"
   ]
  },
  {
   "cell_type": "code",
   "execution_count": 58,
   "id": "9a4ce778",
   "metadata": {
    "scrolled": true
   },
   "outputs": [
    {
     "name": "stdout",
     "output_type": "stream",
     "text": [
      "              precision    recall  f1-score   support\n",
      "\n",
      "         0.0       0.61      0.88      0.72       599\n",
      "         1.0       0.41      0.13      0.20       384\n",
      "\n",
      "    accuracy                           0.59       983\n",
      "   macro avg       0.51      0.50      0.46       983\n",
      "weighted avg       0.53      0.59      0.52       983\n",
      "\n"
     ]
    }
   ],
   "source": [
    "print(classification_report(y_test,y_pred_gs))"
   ]
  },
  {
   "cell_type": "markdown",
   "id": "1b307ea5",
   "metadata": {},
   "source": [
    "## Automatic Hyperparameter tuning"
   ]
  },
  {
   "cell_type": "code",
   "execution_count": 59,
   "id": "1ad260fe",
   "metadata": {},
   "outputs": [],
   "source": [
    "from sklearn.model_selection import cross_val_score\n",
    "from hyperopt import hp,fmin,tpe,STATUS_OK,Trials"
   ]
  },
  {
   "cell_type": "code",
   "execution_count": 63,
   "id": "08ba3301",
   "metadata": {},
   "outputs": [
    {
     "data": {
      "text/plain": [
       "{'criterion': <hyperopt.pyll.base.Apply at 0x1f69257dfa0>,\n",
       " 'max_depth': <hyperopt.pyll.base.Apply at 0x1f69257d280>,\n",
       " 'max_features': <hyperopt.pyll.base.Apply at 0x1f69257da90>,\n",
       " 'min_samples_leaf': <hyperopt.pyll.base.Apply at 0x1f6925a3d90>,\n",
       " 'min_samples_split': <hyperopt.pyll.base.Apply at 0x1f6925a3af0>,\n",
       " 'n_estimators': <hyperopt.pyll.base.Apply at 0x1f6925a3a90>}"
      ]
     },
     "execution_count": 63,
     "metadata": {},
     "output_type": "execute_result"
    }
   ],
   "source": [
    "space = {'criterion': hp.choice('criterion', ['entropy', 'gini']),\n",
    "        'max_depth': hp.quniform('max_depth', 10, 1200, 10),\n",
    "        'max_features': hp.choice('max_features', ['sqrt','log2']),\n",
    "        'min_samples_leaf': hp.uniform('min_samples_leaf', 0,0.5),\n",
    "        'min_samples_split' : hp.uniform ('min_samples_split', 0, 0.5),\n",
    "        'n_estimators' : hp.choice('n_estimators', [10, 50, 300, 750, 1200,1300,1500])\n",
    "    }\n",
    "space"
   ]
  },
  {
   "cell_type": "code",
   "execution_count": 64,
   "id": "684438ee",
   "metadata": {},
   "outputs": [],
   "source": [
    "def objective(space):\n",
    "    model = RandomForestClassifier(criterion = space['criterion'], max_depth = space['max_depth'],\n",
    "                                 max_features = space['max_features'],\n",
    "                                 min_samples_leaf = space['min_samples_leaf'],\n",
    "                                 min_samples_split = space['min_samples_split'],\n",
    "                                 n_estimators = space['n_estimators'], \n",
    "                                 )\n",
    "    \n",
    "    accuracy = cross_val_score(model, X_train, y_train, cv = 5).mean()\n",
    "\n",
    "    # We aim to maximize accuracy, therefore we return it as a negative value\n",
    "    return {'loss': -accuracy, 'status': STATUS_OK }"
   ]
  },
  {
   "cell_type": "code",
   "execution_count": 65,
   "id": "8650ff18",
   "metadata": {
    "scrolled": true
   },
   "outputs": [
    {
     "name": "stdout",
     "output_type": "stream",
     "text": [
      "100%|███████████████████████████████████████████████| 80/80 [05:51<00:00,  4.39s/trial, best loss: -0.6101178753888746]\n"
     ]
    },
    {
     "data": {
      "text/plain": [
       "{'criterion': 1,\n",
       " 'max_depth': 30.0,\n",
       " 'max_features': 1,\n",
       " 'min_samples_leaf': 0.31164126860906155,\n",
       " 'min_samples_split': 0.14729784883845337,\n",
       " 'n_estimators': 5}"
      ]
     },
     "execution_count": 65,
     "metadata": {},
     "output_type": "execute_result"
    }
   ],
   "source": [
    "from sklearn.model_selection import cross_val_score\n",
    "trials = Trials()\n",
    "best = fmin(fn= objective,\n",
    "            space= space,\n",
    "            algo= tpe.suggest,\n",
    "            max_evals = 80,\n",
    "            trials= trials)\n",
    "best"
   ]
  },
  {
   "cell_type": "code",
   "execution_count": 66,
   "id": "7d68d376",
   "metadata": {},
   "outputs": [
    {
     "name": "stdout",
     "output_type": "stream",
     "text": [
      "gini\n",
      "sqrt\n",
      "1300\n"
     ]
    }
   ],
   "source": [
    "crit = {0: 'entropy', 1: 'gini'}\n",
    "feat = {0: 'auto', 1: 'sqrt', 2: 'log2', 3: None}\n",
    "est = {0: 10, 1: 50, 2: 300, 3: 750, 4: 1200,5:1300,6:1500}\n",
    "\n",
    "\n",
    "print(crit[best['criterion']])\n",
    "print(feat[best['max_features']])\n",
    "print(est[best['n_estimators']])"
   ]
  },
  {
   "cell_type": "code",
   "execution_count": 67,
   "id": "30ef6066",
   "metadata": {},
   "outputs": [
    {
     "name": "stdout",
     "output_type": "stream",
     "text": [
      "gini\n",
      "sqrt\n",
      "1300\n"
     ]
    }
   ],
   "source": [
    "crit = {0: 'entropy', 1: 'gini'}\n",
    "feat = {0: 'auto', 1: 'sqrt', 2: 'log2', 3: None}\n",
    "est = {0: 10, 1: 50, 2: 300, 3: 750, 4: 1200,5:1300,6:1500}\n",
    "\n",
    "\n",
    "print(crit[best['criterion']])\n",
    "print(feat[best['max_features']])\n",
    "print(est[best['n_estimators']])"
   ]
  },
  {
   "cell_type": "code",
   "execution_count": 68,
   "id": "2c70b055",
   "metadata": {},
   "outputs": [
    {
     "name": "stdout",
     "output_type": "stream",
     "text": [
      "[[599   0]\n",
      " [384   0]]\n",
      "0.6093591047812817\n",
      "              precision    recall  f1-score   support\n",
      "\n",
      "         0.0       0.61      1.00      0.76       599\n",
      "         1.0       0.00      0.00      0.00       384\n",
      "\n",
      "    accuracy                           0.61       983\n",
      "   macro avg       0.30      0.50      0.38       983\n",
      "weighted avg       0.37      0.61      0.46       983\n",
      "\n"
     ]
    },
    {
     "name": "stderr",
     "output_type": "stream",
     "text": [
      "C:\\Users\\sarth\\anaconda3\\lib\\site-packages\\sklearn\\metrics\\_classification.py:1245: UndefinedMetricWarning: Precision and F-score are ill-defined and being set to 0.0 in labels with no predicted samples. Use `zero_division` parameter to control this behavior.\n",
      "  _warn_prf(average, modifier, msg_start, len(result))\n",
      "C:\\Users\\sarth\\anaconda3\\lib\\site-packages\\sklearn\\metrics\\_classification.py:1245: UndefinedMetricWarning: Precision and F-score are ill-defined and being set to 0.0 in labels with no predicted samples. Use `zero_division` parameter to control this behavior.\n",
      "  _warn_prf(average, modifier, msg_start, len(result))\n",
      "C:\\Users\\sarth\\anaconda3\\lib\\site-packages\\sklearn\\metrics\\_classification.py:1245: UndefinedMetricWarning: Precision and F-score are ill-defined and being set to 0.0 in labels with no predicted samples. Use `zero_division` parameter to control this behavior.\n",
      "  _warn_prf(average, modifier, msg_start, len(result))\n"
     ]
    }
   ],
   "source": [
    "trainedforest = RandomForestClassifier(criterion = crit[best['criterion']], max_depth = best['max_depth'], \n",
    "                                       max_features = feat[best['max_features']], \n",
    "                                       min_samples_leaf = best['min_samples_leaf'], \n",
    "                                       min_samples_split = best['min_samples_split'], \n",
    "                                       n_estimators = est[best['n_estimators']]).fit(X_train,y_train)\n",
    "predictionforest = trainedforest.predict(X_test)\n",
    "print(confusion_matrix(y_test,predictionforest))\n",
    "print(accuracy_score(y_test,predictionforest))\n",
    "print(classification_report(y_test,predictionforest))\n",
    "acc5 = accuracy_score(y_test,predictionforest)"
   ]
  },
  {
   "cell_type": "markdown",
   "id": "9e1e6532",
   "metadata": {},
   "source": [
    "## Genetic Algorithm"
   ]
  },
  {
   "cell_type": "code",
   "execution_count": 70,
   "id": "cbf97eec",
   "metadata": {},
   "outputs": [],
   "source": [
    "from tpot import TPOTClassifier"
   ]
  },
  {
   "cell_type": "code",
   "execution_count": 81,
   "id": "93bbaef5",
   "metadata": {},
   "outputs": [],
   "source": [
    "n_estimators=[int(x) for x in np.linspace(start=100,stop=1200,num=10)]\n",
    "\n",
    "max_features=['auto','sqrt','log2']\n",
    "\n",
    "max_depth=[int(x) for x in np.linspace(100,1000,100)]\n",
    "\n",
    "min_samples_split=[2,3,5,6]\n",
    "min_samples_leaf=[2,3,4,6]\n",
    "\n",
    "\n",
    "genetic_param={\n",
    "    \"n_estimators\":n_estimators,\n",
    "    \"max_features\":max_features,\n",
    "    \"max_depth\":max_depth,\n",
    "    \"min_samples_split\":min_samples_split,\n",
    "    \"min_samples_leaf\":min_samples_leaf\n",
    "}"
   ]
  },
  {
   "cell_type": "code",
   "execution_count": 82,
   "id": "d9c13ade",
   "metadata": {},
   "outputs": [
    {
     "data": {
      "application/vnd.jupyter.widget-view+json": {
       "model_id": "",
       "version_major": 2,
       "version_minor": 0
      },
      "text/plain": [
       "Optimization Progress:   0%|          | 0/80 [00:00<?, ?pipeline/s]"
      ]
     },
     "metadata": {},
     "output_type": "display_data"
    },
    {
     "name": "stdout",
     "output_type": "stream",
     "text": [
      "\n",
      "Generation 1 - Current best internal CV score: 0.5952928227861187\n",
      "\n",
      "Generation 2 - Current best internal CV score: 0.5952951031006196\n",
      "\n",
      "Generation 3 - Current best internal CV score: 0.5952951031006196\n",
      "\n",
      "Generation 4 - Current best internal CV score: 0.5952951031006196\n",
      "\n",
      "Generation 5 - Current best internal CV score: 0.5952966233102869\n",
      "\n",
      "Best pipeline: RandomForestClassifier(input_matrix, max_depth=845, max_features=log2, min_samples_leaf=6, min_samples_split=2, n_estimators=711)\n"
     ]
    },
    {
     "data": {
      "text/plain": [
       "TPOTClassifier(config_dict={'sklearn.ensemble.RandomForestClassifier': {'max_depth': [100,\n",
       "                                                                                      109,\n",
       "                                                                                      118,\n",
       "                                                                                      127,\n",
       "                                                                                      136,\n",
       "                                                                                      145,\n",
       "                                                                                      154,\n",
       "                                                                                      163,\n",
       "                                                                                      172,\n",
       "                                                                                      181,\n",
       "                                                                                      190,\n",
       "                                                                                      200,\n",
       "                                                                                      209,\n",
       "                                                                                      218,\n",
       "                                                                                      227,\n",
       "                                                                                      236,\n",
       "                                                                                      245,\n",
       "                                                                                      254,\n",
       "                                                                                      263,\n",
       "                                                                                      272,\n",
       "                                                                                      281,\n",
       "                                                                                      290,\n",
       "                                                                                      300,\n",
       "                                                                                      309,\n",
       "                                                                                      318,\n",
       "                                                                                      327,\n",
       "                                                                                      336,\n",
       "                                                                                      345,\n",
       "                                                                                      354,\n",
       "                                                                                      363, ...],\n",
       "                                                                        'max_features': ['auto',\n",
       "                                                                                         'sqrt',\n",
       "                                                                                         'log2'],\n",
       "                                                                        'min_samples_leaf': [2,\n",
       "                                                                                             3,\n",
       "                                                                                             4,\n",
       "                                                                                             6],\n",
       "                                                                        'min_samples_split': [2,\n",
       "                                                                                              3,\n",
       "                                                                                              5,\n",
       "                                                                                              6],\n",
       "                                                                        'n_estimators': [100,\n",
       "                                                                                         222,\n",
       "                                                                                         344,\n",
       "                                                                                         466,\n",
       "                                                                                         588,\n",
       "                                                                                         711,\n",
       "                                                                                         833,\n",
       "                                                                                         955,\n",
       "                                                                                         1077,\n",
       "                                                                                         1200]}},\n",
       "               cv=4, early_stop=12, generations=5, offspring_size=12,\n",
       "               population_size=20, scoring='accuracy', verbosity=2)"
      ]
     },
     "execution_count": 82,
     "metadata": {},
     "output_type": "execute_result"
    }
   ],
   "source": [
    "tpot_classifier=TPOTClassifier(generations=5, population_size=20,offspring_size= 12,\n",
    "                                verbosity= 2,config_dict={\"sklearn.ensemble.RandomForestClassifier\":genetic_param}\n",
    "                               ,early_stop= 12,scoring=\"accuracy\",cv=4)\n",
    "\n",
    "tpot_classifier.fit(X_train,y_train)"
   ]
  },
  {
   "cell_type": "code",
   "execution_count": 83,
   "id": "6335fc5b",
   "metadata": {},
   "outputs": [
    {
     "data": {
      "text/plain": [
       "0.814217182730048"
      ]
     },
     "execution_count": 83,
     "metadata": {},
     "output_type": "execute_result"
    }
   ],
   "source": [
    "tpot_classifier.score(X_train,y_train)"
   ]
  },
  {
   "cell_type": "code",
   "execution_count": 84,
   "id": "dcd5d906",
   "metadata": {},
   "outputs": [
    {
     "data": {
      "text/plain": [
       "0.582909460834181"
      ]
     },
     "execution_count": 84,
     "metadata": {},
     "output_type": "execute_result"
    }
   ],
   "source": [
    "tpot_classifier.score(X_test,y_test)"
   ]
  },
  {
   "cell_type": "code",
   "execution_count": 101,
   "id": "1e16deb5",
   "metadata": {},
   "outputs": [],
   "source": [
    "import pickle"
   ]
  },
  {
   "cell_type": "code",
   "execution_count": 103,
   "id": "4ba79114",
   "metadata": {},
   "outputs": [],
   "source": [
    "pickle.dump(best_rf_model,open(\"water.pkl\",'wb'))"
   ]
  },
  {
   "cell_type": "markdown",
   "id": "564056d0",
   "metadata": {},
   "source": [
    "## Clustering"
   ]
  },
  {
   "cell_type": "code",
   "execution_count": null,
   "id": "0824e37e",
   "metadata": {},
   "outputs": [],
   "source": [
    "from sklearn.cluster import KMeans"
   ]
  },
  {
   "cell_type": "code",
   "execution_count": null,
   "id": "d1ff4e6d",
   "metadata": {},
   "outputs": [],
   "source": [
    "kmeans=KMeans(n_clusters=4)\n",
    "df['cluster']=kmeans.fit_predict(df[['Turbidity','Hardness']])"
   ]
  },
  {
   "cell_type": "code",
   "execution_count": null,
   "id": "83a5d9d2",
   "metadata": {
    "scrolled": true
   },
   "outputs": [],
   "source": [
    "df['cluster']"
   ]
  },
  {
   "cell_type": "code",
   "execution_count": null,
   "id": "feff100e",
   "metadata": {},
   "outputs": [],
   "source": [
    "centroids=kmeans.cluster_centers_\n",
    "c_x=[i[0] for i in centroids]\n",
    "c_y=[i[1] for i in centroids]"
   ]
  },
  {
   "cell_type": "code",
   "execution_count": null,
   "id": "3462dd5e",
   "metadata": {},
   "outputs": [],
   "source": [
    "c_x"
   ]
  },
  {
   "cell_type": "code",
   "execution_count": null,
   "id": "cfdef308",
   "metadata": {},
   "outputs": [],
   "source": [
    "df['coids_x']=df['cluster'].map({0:c_x[0],1:c_x[1],2:c_x[2],3:c_x[3]})\n",
    "df['coid_y']=df['cluster'].map({0:c_y[1],1:c_y[1],0:c_y[2],1:c_y[3]})"
   ]
  },
  {
   "cell_type": "code",
   "execution_count": null,
   "id": "3859b7d8",
   "metadata": {},
   "outputs": [],
   "source": [
    "centroids"
   ]
  },
  {
   "cell_type": "code",
   "execution_count": null,
   "id": "1e531213",
   "metadata": {},
   "outputs": [],
   "source": [
    "df['color']=df['cluster'].map({0:'red',1:'blue',2:'green',3:'yellow'})"
   ]
  },
  {
   "cell_type": "code",
   "execution_count": null,
   "id": "d3fd6ace",
   "metadata": {},
   "outputs": [],
   "source": [
    "plt.scatter(df['Turbidity'],df['Hardness'],c=df['color'])\n",
    "plt.xlabel(\"Turbidity\")\n",
    "plt.ylabel(\"Hardness\")\n",
    "plt.legend()"
   ]
  },
  {
   "cell_type": "code",
   "execution_count": null,
   "id": "0c0fc5ef",
   "metadata": {},
   "outputs": [],
   "source": [
    "sse=[]\n",
    "k_values=range(1,100)\n",
    "for i in k_values:\n",
    "    kmeans1=KMeans(n_clusters=i)\n",
    "    kmeans1.fit_predict(df[['Turbidity','Hardness']])\n",
    "    sse.append(kmeans1.inertia_)"
   ]
  },
  {
   "cell_type": "code",
   "execution_count": null,
   "id": "2e719b19",
   "metadata": {},
   "outputs": [],
   "source": [
    "plt.plot(k_values,sse)"
   ]
  },
  {
   "cell_type": "code",
   "execution_count": null,
   "id": "8f8794d8",
   "metadata": {},
   "outputs": [],
   "source": []
  }
 ],
 "metadata": {
  "kernelspec": {
   "display_name": "Python 3",
   "language": "python",
   "name": "python3"
  },
  "language_info": {
   "codemirror_mode": {
    "name": "ipython",
    "version": 3
   },
   "file_extension": ".py",
   "mimetype": "text/x-python",
   "name": "python",
   "nbconvert_exporter": "python",
   "pygments_lexer": "ipython3",
   "version": "3.8.8"
  }
 },
 "nbformat": 4,
 "nbformat_minor": 5
}
